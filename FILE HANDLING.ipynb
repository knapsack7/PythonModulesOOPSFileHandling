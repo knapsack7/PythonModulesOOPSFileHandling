{
 "cells": [
  {
   "cell_type": "code",
   "execution_count": 5,
   "metadata": {},
   "outputs": [],
   "source": [
    "f=open(\"sample_file.txt\",'w')"
   ]
  },
  {
   "cell_type": "code",
   "execution_count": 9,
   "metadata": {},
   "outputs": [],
   "source": [
    "content=\"Hello World\\n\"\n",
    "l=[content]*3\n",
    "f.writelines(l)#to write list data structure\n",
    "f.close()"
   ]
  },
  {
   "cell_type": "code",
   "execution_count": 11,
   "metadata": {},
   "outputs": [
    {
     "name": "stdout",
     "output_type": "stream",
     "text": [
      "<class 'list'>\n",
      "['Hello World\\n', 'Hello World\\n', 'Hello World\\n', 'Hello World\\n', 'Hello World\\n', 'Hello World\\n', 'Hello World\\n', 'Hello World\\n', 'Hello World\\n']\n"
     ]
    }
   ],
   "source": [
    "f=open(\"sample_file.txt\",\"r\")\n",
    "l=f.readlines()\n",
    "print(type(l))\n",
    "print(l)\n",
    "f.close()"
   ]
  },
  {
   "cell_type": "markdown",
   "metadata": {},
   "source": [
    "# Reading file with WITH OPEN"
   ]
  },
  {
   "cell_type": "code",
   "execution_count": 18,
   "metadata": {},
   "outputs": [
    {
     "name": "stdout",
     "output_type": "stream",
     "text": [
      "Hello World\n",
      "Hello World\n",
      "Hello World\n",
      "Hello World\n",
      "Hello World\n",
      "Hello World\n",
      "Hello World\n",
      "Hello World\n",
      "Hello World\n",
      "\n",
      "False\n",
      "True\n",
      " World\n",
      "Hello World\n",
      "Hello World\n",
      "Hello World\n",
      "Hello World\n",
      "Hello World\n",
      "Hello World\n",
      "Hello World\n",
      "Hello World\n",
      "\n"
     ]
    }
   ],
   "source": [
    "with open(\"sample_file.txt\",\"r\") as f:\n",
    "    print(f.read())\n",
    "    print(f.closed)\n",
    "#WITH OPEN automatically closes the file, this ensures that the cleanup is not needed\n",
    "print(f.closed)\n",
    "with open(\"sample_file.txt\",\"r\") as f:\n",
    "    f.seek(5)\n",
    "    print(f.read())"
   ]
  },
  {
   "cell_type": "markdown",
   "metadata": {},
   "source": [
    "# JSON(JavaScript Object Notation) Concept"
   ]
  },
  {
   "cell_type": "code",
   "execution_count": 21,
   "metadata": {},
   "outputs": [
    {
     "name": "stdout",
     "output_type": "stream",
     "text": [
      "<class 'dict'>\n",
      "{'Name': 'A1', 'Age': 30}\n"
     ]
    }
   ],
   "source": [
    "\"\"\"Json object are used to store python object(resides in RAM) in secondary devices\n",
    "    Methods-- json.dumps(python obj)  it returns string\n",
    "              json.dump(python obj,json file)\n",
    "              These above to methods are used for serializing the data\n",
    "              json.load(json file) it returns python object (dictionary)\n",
    "              json.loads(json file)\n",
    "              These above two methods are used for deserialising\n",
    "\"\"\"\n",
    "import json\n",
    "#Python Object\n",
    "book={\n",
    "    \"Name\":\"Learning Python\",\n",
    "    \"Page\":320,\n",
    "    \"Authors\":[{\"Name\":\"A1\",\"Age\":30},{\"Name\":\"B1\",\"Age\":37}]\n",
    "}\n",
    "print(type(book))\n",
    "print(book['Authors'][0])"
   ]
  },
  {
   "cell_type": "code",
   "execution_count": 23,
   "metadata": {},
   "outputs": [
    {
     "name": "stdout",
     "output_type": "stream",
     "text": [
      "{\"Name\": \"Learning Python\", \"Page\": 320, \"Authors\": [{\"Name\": \"A1\", \"Age\": 30}, {\"Name\": \"B1\", \"Age\": 37}]}\n",
      "<class 'str'>\n"
     ]
    }
   ],
   "source": [
    "with open(\"myjsonfile.json\",'w') as f:\n",
    "    json.dump(book,f)\n",
    "#Note with open automatically closes the file\n",
    "s=json.dumps(book)#Returns a string \n",
    "print(s)\n",
    "print(type(s))"
   ]
  },
  {
   "cell_type": "code",
   "execution_count": 24,
   "metadata": {},
   "outputs": [
    {
     "name": "stdout",
     "output_type": "stream",
     "text": [
      "{'Name': 'Learning Python', 'Page': 320, 'Authors': [{'Name': 'A1', 'Age': 30}, {'Name': 'B1', 'Age': 37}]}\n",
      "<class 'dict'>\n"
     ]
    }
   ],
   "source": [
    "obj=json.loads(s)\n",
    "print(obj)\n",
    "print(type(obj))"
   ]
  },
  {
   "cell_type": "code",
   "execution_count": 25,
   "metadata": {
    "scrolled": true
   },
   "outputs": [
    {
     "name": "stdout",
     "output_type": "stream",
     "text": [
      "{'Authors': [{'Age': 30, 'Name': 'A1'}, {'Age': 37, 'Name': 'B1'}],\n",
      " 'Name': 'Learning Python',\n",
      " 'Page': 320}\n"
     ]
    }
   ],
   "source": [
    "import pprint\n",
    "with open(\"myjsonfile.json\",'r') as f:\n",
    "    data=json.load(f)\n",
    "    pprint.pprint(data)"
   ]
  },
  {
   "cell_type": "markdown",
   "metadata": {},
   "source": [
    "# Exception Handling in Python"
   ]
  },
  {
   "cell_type": "code",
   "execution_count": 28,
   "metadata": {},
   "outputs": [
    {
     "name": "stdout",
     "output_type": "stream",
     "text": [
      "Enter Your NameManoj Kumar Verma\n",
      "Try executed without any Error\n",
      "Form Submitted Successfully\n",
      "This is always there\n"
     ]
    }
   ],
   "source": [
    "try:\n",
    "    a=input(\"Enter Your Name\")\n",
    "    if(len(a)<3):\n",
    "        raise Exception\n",
    "except Exception:\n",
    "    print(\"Please Name with string size of atleast 3 \")\n",
    "else:\n",
    "    print(\"Try executed without any Error\")\n",
    "    print(\"Form Submitted Successfully\")\n",
    "finally:\n",
    "    print(\"This is always there\")"
   ]
  }
 ],
 "metadata": {
  "kernelspec": {
   "display_name": "Python 3",
   "language": "python",
   "name": "python3"
  },
  "language_info": {
   "codemirror_mode": {
    "name": "ipython",
    "version": 3
   },
   "file_extension": ".py",
   "mimetype": "text/x-python",
   "name": "python",
   "nbconvert_exporter": "python",
   "pygments_lexer": "ipython3",
   "version": "3.7.3"
  }
 },
 "nbformat": 4,
 "nbformat_minor": 2
}
