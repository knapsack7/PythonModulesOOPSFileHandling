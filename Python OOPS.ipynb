{
 "cells": [
  {
   "cell_type": "code",
   "execution_count": 19,
   "metadata": {},
   "outputs": [
    {
     "name": "stdout",
     "output_type": "stream",
     "text": [
      "My Name Is : Prateek\n",
      "My College IS : CodingBlocks And I am Indian\n",
      "My Name Is : Arnav\n",
      "My College IS : MicroWave And I am Indian\n",
      "<__main__.Person object at 0x7fa550080400>\n"
     ]
    }
   ],
   "source": [
    "class Person:\n",
    "    Nationality=\"Indian\"#class Variable\n",
    "    def __init__(self,name,clg):\n",
    "        self.name=name#instance variable\n",
    "        self.college=clg#instace variable\n",
    "    def introduce(self):\n",
    "        print(\"My Name Is : \"+self.name)\n",
    "        print(\"My College IS : \"+self.college+\" And I am \"+self.Nationality)\n",
    "    def sayHi(self):\n",
    "        print(\"Hello\", end='\\n')\n",
    "P1=Person(\"Prateek\",\"CodingBlocks\")\n",
    "P1.introduce()\n",
    "P2=Person(\"Arnav\",\"MicroWave\")\n",
    "P2.introduce()\n",
    "print(P)"
   ]
  },
  {
   "cell_type": "markdown",
   "metadata": {},
   "source": [
    "# Instance Variable Vs Class Variable "
   ]
  },
  {
   "cell_type": "code",
   "execution_count": 20,
   "metadata": {},
   "outputs": [
    {
     "name": "stdout",
     "output_type": "stream",
     "text": [
      "Breed : German Shephard\n",
      "Activities :  ['High Jump', 'Roll Over']\n",
      "German Shephard is doing secret Activity\n",
      "Breed : Golden Retriever\n",
      "Activities :  ['Low Jump', 'Roll Upside Down']\n",
      "Golden Retriever is doing secret Activity\n"
     ]
    }
   ],
   "source": [
    "class Dog:\n",
    "    color=\"Brown\"#class Variable\n",
    "    def __init__(self,breed):\n",
    "        self.breed=breed\n",
    "        self.activity=[]\n",
    "    def addActivity(self,act):\n",
    "        self.activity.append(act)\n",
    "    def __secretActivity(self):#protected method\n",
    "        print(self.breed+\" is doing secret Activity\")\n",
    "    def introduce(self):\n",
    "        print(\"Breed : \"+self.breed)\n",
    "        print(\"Activities : \",self.activity)\n",
    "        self.__secretActivity()#protected methods can only be called using public methods\n",
    "d1=Dog(\"German Shephard\")\n",
    "d2=Dog(\"Golden Retriever\")\n",
    "d1.addActivity(\"High Jump\")\n",
    "d1.addActivity(\"Roll Over\")\n",
    "d2.addActivity(\"Low Jump\")\n",
    "d2.addActivity(\"Roll Upside Down\")\n",
    "d1.introduce()\n",
    "d2.introduce()"
   ]
  },
  {
   "cell_type": "markdown",
   "metadata": {},
   "source": [
    "# Inheritance IN Python"
   ]
  },
  {
   "cell_type": "code",
   "execution_count": 24,
   "metadata": {},
   "outputs": [
    {
     "name": "stdout",
     "output_type": "stream",
     "text": [
      "Initialising School Member Guru\n",
      "Initialising Teacher Guru\n",
      "Name : Guru 54\n",
      "Salary 10000\n",
      "Initialising School Member Ram\n",
      "Initialising Student Ram\n",
      "Name : Ram 21\n",
      "Marks 67\n"
     ]
    }
   ],
   "source": [
    "class SchoolMember:#Base Class\n",
    "    def __init__(self,name,age):#Constructor\n",
    "        self.name=name\n",
    "        self.age=age\n",
    "        print(\"Initialising School Member %s\"%(self.name))\n",
    "    def introduce(self):\n",
    "        print(\"Name : %s %d\"%(self.name,self.age))\n",
    "class Teacher(SchoolMember):#Derived Class\n",
    "    def __init__(self,name,age,salary):\n",
    "        SchoolMember.__init__(self,name,age)\n",
    "        self.salary=salary\n",
    "        print(\"Initialising Teacher %s\"%self.name)\n",
    "    def introduce(self):\n",
    "        SchoolMember.introduce(self)\n",
    "        print(\"Salary %d\"%(self.salary))\n",
    "class Student(SchoolMember):#Derived Class\n",
    "    def __init__(self,name,age,marks):\n",
    "        SchoolMember.__init__(self,name,age)\n",
    "        self.marks=marks\n",
    "        print(\"Initialising Student %s\"%self.name)\n",
    "    def introduce(self):\n",
    "        SchoolMember.introduce(self)\n",
    "        print(\"Marks %d\"%(self.marks))\n",
    "T1=Teacher(\"Guru\",54,10000)\n",
    "T1.introduce()\n",
    "S1=Student(\"Ram\",21,67)\n",
    "S1.introduce()"
   ]
  },
  {
   "cell_type": "code",
   "execution_count": null,
   "metadata": {},
   "outputs": [],
   "source": []
  }
 ],
 "metadata": {
  "kernelspec": {
   "display_name": "Python 3",
   "language": "python",
   "name": "python3"
  },
  "language_info": {
   "codemirror_mode": {
    "name": "ipython",
    "version": 3
   },
   "file_extension": ".py",
   "mimetype": "text/x-python",
   "name": "python",
   "nbconvert_exporter": "python",
   "pygments_lexer": "ipython3",
   "version": "3.7.3"
  }
 },
 "nbformat": 4,
 "nbformat_minor": 2
}
